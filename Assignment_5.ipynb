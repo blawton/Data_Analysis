{
 "cells": [
  {
   "cell_type": "code",
   "execution_count": 2,
   "metadata": {},
   "outputs": [
    {
     "name": "stdout",
     "output_type": "stream",
     "text": [
      "Extracting MNIST_data/train-images-idx3-ubyte.gz\n",
      "Extracting MNIST_data/train-labels-idx1-ubyte.gz\n",
      "Extracting MNIST_data/t10k-images-idx3-ubyte.gz\n",
      "Extracting MNIST_data/t10k-labels-idx1-ubyte.gz\n"
     ]
    }
   ],
   "source": [
    "import numpy as np\n",
    "import matplotlib.pyplot as plt\n",
    "import math\n",
    "import tensorflow as tf\n",
    "from numpy import linalg as LA\n",
    "\n",
    "from tensorflow.examples.tutorials.mnist import input_data\n",
    "mnist = input_data.read_data_sets(\"MNIST_data/\", one_hot=True)"
   ]
  },
  {
   "cell_type": "code",
   "execution_count": 3,
   "metadata": {},
   "outputs": [
    {
     "name": "stdout",
     "output_type": "stream",
     "text": [
      "(6921, 784)\n",
      "(1, 784)\n",
      "(6921, 784)\n",
      "(784,)\n",
      "(784, 784)\n"
     ]
    }
   ],
   "source": [
    "#Digit being analyzed\n",
    "i = 0\n",
    "\n",
    "Xtrain, Ytrain = mnist.train.next_batch(60000)\n",
    "Xtest, Ytest = mnist.test.next_batch(10000)\n",
    "\n",
    "X = np.concatenate((Xtrain, Xtest), axis=0)\n",
    "\n",
    "Y = np.concatenate((Ytrain, Ytest), axis=0)\n",
    "\n",
    "matches = np.where(Y[:,i] == 1)\n",
    "\n",
    "X_f = X[matches, :][0]\n",
    "\n",
    "print(X_f.shape)\n",
    "\n",
    "mu = np.mean(X_f, axis=0)\n",
    "\n",
    "mu = np.reshape(mu, (1, 784))\n",
    "\n",
    "print(mu.shape)\n",
    "\n",
    "B = X_f - np.matmul(np.ones((X_f.shape[0], 1)), mu)\n",
    "\n",
    "print(B.shape)\n",
    "\n",
    "Cov = (1/69000) * np.matmul(np.transpose(B), B)\n",
    "\n",
    "w, v = LA.eigh(Cov)\n",
    "print(w.shape)\n",
    "print(v.shape)"
   ]
  },
  {
   "cell_type": "code",
   "execution_count": 4,
   "metadata": {},
   "outputs": [
    {
     "data": {
      "image/png": "[encoded data removed]",
      "text/plain": [
       "<matplotlib.figure.Figure at 0x10fe96e48>"
      ]
     },
     "metadata": {},
     "output_type": "display_data"
    },
    {
     "data": {
      "image/png": "[encoded data removed]",
      "text/plain": [
       "<matplotlib.figure.Figure at 0x1a412cffd0>"
      ]
     },
     "metadata": {},
     "output_type": "display_data"
    },
    {
     "data": {
      "image/png": "[encoded data removed]",
      "text/plain": [
       "<matplotlib.figure.Figure at 0x1a4127fe80>"
      ]
     },
     "metadata": {},
     "output_type": "display_data"
    },
    {
     "data": {
      "image/png": "[encoded data removed]",
      "text/plain": [
       "<matplotlib.figure.Figure at 0x1a4140afd0>"
      ]
     },
     "metadata": {},
     "output_type": "display_data"
    }
   ],
   "source": [
    "v1= v[:,783]\n",
    "v2= v[:,782]\n",
    "v3= v[:,781]\n",
    "mean = np.reshape(mu, (28, 28))\n",
    "PC1 = np.reshape(v1, (28,28))\n",
    "PC2 = np.reshape(v2, (28,28))\n",
    "PC3 = np.reshape(v3, (28,28))\n",
    "plt.axis('off')\n",
    "plt.imshow(mean)\n",
    "plt.title('Mean image')\n",
    "plt.show()\n",
    "plt.axis('off')\n",
    "plt.imshow(PC1)\n",
    "plt.title('Principle Component 1')\n",
    "plt.show()\n",
    "plt.axis('off')\n",
    "plt.imshow(PC2)\n",
    "plt.title('Principle Component 2')\n",
    "plt.show()\n",
    "plt.axis('off')\n",
    "plt.imshow(PC3)\n",
    "plt.title('Principle Component 3')\n",
    "plt.show()"
   ]
  },
  {
   "cell_type": "code",
   "execution_count": null,
   "metadata": {
    "collapsed": true
   },
   "outputs": [],
   "source": [
    ""
   ]
  }
 ],
 "metadata": {
  "kernelspec": {
   "display_name": "Python 3",
   "language": "python",
   "name": "python3"
  },
  "language_info": {
   "codemirror_mode": {
    "name": "ipython",
    "version": 3.0
   },
   "file_extension": ".py",
   "mimetype": "text/x-python",
   "name": "python",
   "nbconvert_exporter": "python",
   "pygments_lexer": "ipython3",
   "version": "3.6.3"
  }
 },
 "nbformat": 4,
 "nbformat_minor": 0
}